{
  "nbformat": 4,
  "nbformat_minor": 0,
  "metadata": {
    "colab": {
      "provenance": [],
      "machine_shape": "hm",
      "gpuType": "L4",
      "authorship_tag": "ABX9TyNmlF76LI7hBEQgrMHTNHpU",
      "include_colab_link": true
    },
    "kernelspec": {
      "name": "python3",
      "display_name": "Python 3"
    },
    "language_info": {
      "name": "python"
    },
    "accelerator": "GPU"
  },
  "cells": [
    {
      "cell_type": "markdown",
      "metadata": {
        "id": "view-in-github",
        "colab_type": "text"
      },
      "source": [
        "<a href=\"https://colab.research.google.com/github/ulusberrin/INM706_CW/blob/yasinunsal/sentiment_analysis_inference.ipynb\" target=\"_parent\"><img src=\"https://colab.research.google.com/assets/colab-badge.svg\" alt=\"Open In Colab\"/></a>"
      ]
    },
    {
      "cell_type": "code",
      "source": [
        "from google.colab import drive\n",
        "drive.mount('/content/drive')\n",
        "\n",
        "%cd /content/drive/MyDrive/Colab\\ Notebooks\n",
        "!ls\n"
      ],
      "metadata": {
        "colab": {
          "base_uri": "https://localhost:8080/"
        },
        "id": "E61MTmNk5r18",
        "outputId": "e2700f2f-c724-42d2-9736-3671eadf2c4c"
      },
      "execution_count": 17,
      "outputs": [
        {
          "output_type": "stream",
          "name": "stdout",
          "text": [
            "Drive already mounted at /content/drive; to attempt to forcibly remount, call drive.mount(\"/content/drive\", force_remount=True).\n",
            "/content/drive/MyDrive/Colab Notebooks\n",
            " 05180000029.ipynb\n",
            " checkpoint.pth\n",
            "'Copy of sentiment_analysis_lstm_dropout_05_hidden_size_16_batch_size_256.ipynb'\n",
            " FasterRCNN_112_112_faster_weights.ipynb\n",
            " FasterRCNN_112_112.ipynb\n",
            " FasterRCNN_112_112_mobilenet_v3_large_320_fpn.ipynb\n",
            " FasterRCNN_224_224.ipynb\n",
            " FasterRCNN_448_448.ipynb\n",
            " faster_rcnn_plots_and_summaries\n",
            " fruit-images-for-object-detection\n",
            "'IMDB Dataset.csv'\n",
            " INM702-Task2.ipynb\n",
            "'INM706_Lab7_Bert_classification (1).ipynb'\n",
            " INM706_Lab7_Bert_classification.ipynb\n",
            " sentiment_analysis_gru.ipynb\n",
            " sentiment_analysis_inference.ipynb\n",
            " sentiment_analysis_lstm_dropout_02.ipynb\n",
            " sentiment_analysis_lstm_dropout_05_hidden_size_128.ipynb\n",
            " sentiment_analysis_lstm_dropout_05_hidden_size_16_batch_size_256.ipynb\n",
            " sentiment_analysis_lstm_dropout_05_hidden_size_16_batch_size_64.ipynb\n",
            " sentiment_analysis_lstm_dropout_05_hidden_size_16.ipynb\n",
            " sentiment_analysis_lstm_dropout_05_hidden_size_32.ipynb\n",
            " sentiment_analysis_lstm_dropout_05_hidden_size_64.ipynb\n",
            " sentiment_analysis_lstm_dropout_05_hidden_size_8.ipynb\n",
            " sentiment_analysis_lstm_dropout_05.ipynb\n",
            " sentiment_analysis_lstm.ipynb\n",
            " sentiment_lstm.pt\n",
            " Untitled\n",
            " Untitled0.ipynb\n",
            " Untitled1.ipynb\n",
            " Untitled2.ipynb\n",
            " Untitled3.ipynb\n",
            " Untitled4.ipynb\n",
            " Untitled6.ipynb\n",
            " wandb\n"
          ]
        }
      ]
    },
    {
      "cell_type": "code",
      "execution_count": 18,
      "metadata": {
        "colab": {
          "base_uri": "https://localhost:8080/"
        },
        "id": "ig_jBpv04r--",
        "outputId": "0974cd52-e1c5-4bb5-a5d9-e50461761d22"
      },
      "outputs": [
        {
          "output_type": "stream",
          "name": "stderr",
          "text": [
            "[nltk_data] Downloading package stopwords to /root/nltk_data...\n",
            "[nltk_data]   Package stopwords is already up-to-date!\n"
          ]
        }
      ],
      "source": [
        "import pandas as pd\n",
        "import numpy as np\n",
        "import re\n",
        "import string\n",
        "\n",
        "import torch\n",
        "from torch import nn\n",
        "import tensorflow as tf\n",
        "\n",
        "import nltk\n",
        "from nltk.corpus import stopwords\n",
        "nltk.download(\"stopwords\")\n",
        "stopwords = set(stopwords.words(\"english\"))"
      ]
    },
    {
      "cell_type": "code",
      "source": [
        "device = torch.device('cuda' if torch.cuda.is_available() else 'cpu')\n",
        "print(device)"
      ],
      "metadata": {
        "colab": {
          "base_uri": "https://localhost:8080/"
        },
        "id": "TpDkrC1X42bz",
        "outputId": "5e258f16-8844-4fe3-c385-86077695e38b"
      },
      "execution_count": 19,
      "outputs": [
        {
          "output_type": "stream",
          "name": "stdout",
          "text": [
            "cuda\n"
          ]
        }
      ]
    },
    {
      "cell_type": "code",
      "source": [
        "def remove_html(review):\n",
        "  review = review.replace(\"<br /><br />\", \"\")\n",
        "  return review\n",
        "\n",
        "def remove_punctuations(review):\n",
        "  for punctuation in string.punctuation:\n",
        "    review = review.replace(punctuation, \"\")\n",
        "    return review\n",
        "\n",
        "def remove_digits(review):\n",
        "  review = \"\".join(y for y in review if not y.isdigit())\n",
        "  return review\n",
        "\n",
        "def remove_nonascii(review):\n",
        "  review = re.sub(r'[^\\x00-\\x7f]', r'', review)\n",
        "  return review\n",
        "\n",
        "def make_lower(review):\n",
        "  review = review.lower()\n",
        "  return review\n",
        "\n",
        "def remove_stop_words(review):\n",
        "  review = ' '.join([word for word in review.split() if word not in (stopwords)])\n",
        "  return review\n",
        "\n",
        "\n",
        "def clean_review(review):\n",
        "  review = remove_html(review)\n",
        "  review = remove_punctuations(review)\n",
        "  review = remove_digits(review)\n",
        "  review = remove_nonascii(review)\n",
        "  review = make_lower(review)\n",
        "  review = remove_stop_words(review)\n",
        "  return review\n"
      ],
      "metadata": {
        "id": "eYtcakkb6SvI"
      },
      "execution_count": 20,
      "outputs": []
    },
    {
      "cell_type": "code",
      "source": [
        "num_words = 10000\n",
        "tokenizer = tf.keras.preprocessing.text.Tokenizer(num_words)\n",
        "\n",
        "maxlen = 256\n",
        "pad_sequences = tf.keras.preprocessing.sequence.pad_sequences"
      ],
      "metadata": {
        "id": "OfHcPnVe6cDV"
      },
      "execution_count": 21,
      "outputs": []
    },
    {
      "cell_type": "code",
      "source": [
        "class LSTMModel(nn.Module):\n",
        "  def __init__(\n",
        "    self,\n",
        "    vocab_size,\n",
        "    output_size,\n",
        "    hidden_size,\n",
        "    embedding_size,\n",
        "    n_layers,\n",
        "    dropout\n",
        "    ):\n",
        "\n",
        "    super(LSTMModel, self).__init__()\n",
        "    self.embedding = nn.Embedding(vocab_size, embedding_size)\n",
        "    #self.dropout = nn.Dropout(dropout)\n",
        "    self.dropout1d = nn.Dropout1d(dropout)\n",
        "    self.lstm = nn.LSTM(embedding_size, hidden_size, n_layers, dropout=dropout, batch_first=True)\n",
        "    #self.dropout = nn.Dropout(0.3)\n",
        "    self.fc = nn.Linear(hidden_size, output_size)\n",
        "    self.sigmoid = nn.Sigmoid()\n",
        "\n",
        "  def forward(self, x):\n",
        "    x = x.long()\n",
        "    x = self.embedding(x)\n",
        "    x = self.dropout1d(x)\n",
        "    out, _ =  self.lstm(x)\n",
        "    out = out[:, -1, :]\n",
        "    #out = self.dropout(out)\n",
        "    out = self.fc(out)\n",
        "    out = self.sigmoid(out)\n",
        "\n",
        "    return out"
      ],
      "metadata": {
        "id": "txBNKT9q5JkC"
      },
      "execution_count": 22,
      "outputs": []
    },
    {
      "cell_type": "code",
      "source": [
        "from torch.optim import Adam\n",
        "\n",
        "vocab_size = num_words\n",
        "output_size = 1\n",
        "embedding_size = 256\n",
        "hidden_size = 16\n",
        "n_layers = 2\n",
        "dropout = 0.5\n",
        "\n",
        "lr = 0.001\n",
        "\n",
        "\n",
        "\n",
        "# model initialization\n",
        "model_checkpoint = LSTMModel(vocab_size, output_size, hidden_size, embedding_size, n_layers, dropout)\n",
        "optim = Adam(model_checkpoint.parameters(), lr=lr)\n",
        "\n",
        "\n",
        "checkpoint = torch.load('checkpoint.pth')\n",
        "model_checkpoint.load_state_dict(checkpoint['model_state_dict'])\n",
        "optim.load_state_dict(checkpoint['optimizer_state_dict'])\n",
        "epoch = checkpoint['epoch']\n",
        "loss = checkpoint['loss']\n",
        "model_checkpoint.eval()\n",
        "print(model_checkpoint)\n",
        "\n"
      ],
      "metadata": {
        "colab": {
          "base_uri": "https://localhost:8080/"
        },
        "id": "mpgF4bCA44pM",
        "outputId": "c6e6c0d3-ea29-4ec1-d8d0-46bc06701b7c"
      },
      "execution_count": 23,
      "outputs": [
        {
          "output_type": "stream",
          "name": "stdout",
          "text": [
            "LSTMModel(\n",
            "  (embedding): Embedding(10000, 256)\n",
            "  (dropout1d): Dropout1d(p=0.5, inplace=False)\n",
            "  (lstm): LSTM(256, 16, num_layers=2, batch_first=True, dropout=0.5)\n",
            "  (fc): Linear(in_features=16, out_features=1, bias=True)\n",
            "  (sigmoid): Sigmoid()\n",
            ")\n"
          ]
        }
      ]
    },
    {
      "cell_type": "code",
      "source": [
        "def review_pred(review, model):\n",
        "  review = [review]\n",
        "  for i in range(len(review)):\n",
        "    review[i] = clean_review(review[i])\n",
        "\n",
        "  review = tokenizer.texts_to_sequences(review)\n",
        "  review = pad_sequences(review, maxlen=maxlen, dtype=\"int32\")\n",
        "\n",
        "  sentiment = model(torch.tensor(review).to(device)).to(device)\n",
        "\n",
        "  pred = sentiment.cpu().detach().numpy()\n",
        "  print(pred.item())\n",
        "\n",
        "  if(pred < 0.5):\n",
        "      print(\"negative\")\n",
        "  elif (pred >= 0.5):\n",
        "      print(\"positive\")\n",
        "\n",
        "review = \"this movie is great\"\n",
        "\n",
        "review_pred(review, model_checkpoint.to(device))\n",
        "\n",
        "review1 = \"this movie is terrible\"\n",
        "\n",
        "review_pred(review1, model_checkpoint.to(device))\n",
        "\n",
        "review2 = \"this movie is not terrible, it's great!\"\n",
        "\n",
        "review_pred(review2, model_checkpoint.to(device))\n",
        "\n",
        "review3 = \"this movie is not great, it's terrible!\"\n",
        "\n",
        "review_pred(review3, model_checkpoint.to(device))\n"
      ],
      "metadata": {
        "colab": {
          "base_uri": "https://localhost:8080/"
        },
        "id": "ezVmUCKD6A1Y",
        "outputId": "dd4bacf1-1a91-422d-9d15-8e77a3c0434b"
      },
      "execution_count": 25,
      "outputs": [
        {
          "output_type": "stream",
          "name": "stdout",
          "text": [
            "0.7599336504936218\n",
            "positive\n",
            "0.7599336504936218\n",
            "positive\n",
            "0.7599336504936218\n",
            "positive\n",
            "0.7599336504936218\n",
            "positive\n"
          ]
        }
      ]
    }
  ]
}